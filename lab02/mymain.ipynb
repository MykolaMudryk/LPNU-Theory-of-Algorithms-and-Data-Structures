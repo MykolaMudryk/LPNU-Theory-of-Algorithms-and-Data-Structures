{
 "cells": [
  {
   "cell_type": "code",
   "execution_count": 48,
   "metadata": {},
   "outputs": [],
   "source": [
    "import numpy as np\n",
    "import time\n",
    "import random\n",
    "import tracemalloc"
   ]
  },
  {
   "cell_type": "code",
   "execution_count": 49,
   "metadata": {},
   "outputs": [],
   "source": [
    "def reverse_array(array):\n",
    "  return array[::-1]\n",
    "\n",
    "def bubble_sort(array):\n",
    "  for i in range(len(array) - 1):\n",
    "    for j in range(len(array) - i - 1):\n",
    "      if array[j] > array[j + 1]:\n",
    "        array[j], array[j + 1] = array[j + 1], array[j]\n",
    "  return array\n",
    "\n",
    "def insertion_sort(array):\n",
    "  for i in range(1, len(array)):\n",
    "    current_element = array[i]\n",
    "    j = i - 1\n",
    "    while j >= 0 and array[j] > current_element:\n",
    "      array[j + 1] = array[j]\n",
    "      j -= 1\n",
    "    array[j + 1] = current_element\n",
    "  return array\n",
    "\n",
    "\n",
    "def quick_sort(array):\n",
    "    if len(array) <= 1:\n",
    "        return array\n",
    "    else:\n",
    "        pivot = array[0]\n",
    "        left = [x for x in array[1:] if x < pivot]\n",
    "        right = [x for x in array[1:] if x >= pivot]\n",
    "        return quick_sort(left) + [pivot] + quick_sort(right)\n",
    "\n",
    "def binary_search(array):\n",
    "  low = 0\n",
    "  high = len(array) - 1\n",
    "  mid = 0\n",
    "  value = random.choice(array.copy())\n",
    "\n",
    "\n",
    "  while low <= high:\n",
    "    mid = (low + high) // 2\n",
    "    if array[mid] == value:\n",
    "      return mid\n",
    "    elif array[mid] < value:\n",
    "      low = mid + 1\n",
    "    else:\n",
    "      high = mid - 1\n",
    "\n",
    "  return -1\n"
   ]
  },
  {
   "cell_type": "code",
   "execution_count": 50,
   "metadata": {},
   "outputs": [],
   "source": [
    "array = np.random.rand(10000)\n",
    "array = np.round(array, decimals=6)"
   ]
  },
  {
   "cell_type": "code",
   "execution_count": 51,
   "metadata": {},
   "outputs": [
    {
     "name": "stdout",
     "output_type": "stream",
     "text": [
      "Size: 10, Data Type: int, Time: 0.00014710426330566406, Memory Usage: (654008, 711253)\n",
      "Size: 10, Data Type: float, Time: 5.9604644775390625e-06, Memory Usage: (0, 272)\n",
      "\n",
      "Size: 100, Data Type: int, Time: 8.106231689453125e-06, Memory Usage: (0, 992)\n",
      "Size: 100, Data Type: float, Time: 5.245208740234375e-06, Memory Usage: (0, 992)\n",
      "\n",
      "Size: 1000, Data Type: int, Time: 4.76837158203125e-06, Memory Usage: (0, 8192)\n",
      "Size: 1000, Data Type: float, Time: 8.344650268554688e-06, Memory Usage: (0, 8192)\n",
      "\n",
      "Size: 10000, Data Type: int, Time: 0.00022292137145996094, Memory Usage: (823, 81015)\n",
      "Size: 10000, Data Type: float, Time: 2.8848648071289062e-05, Memory Usage: (0, 80192)\n",
      "\n"
     ]
    }
   ],
   "source": [
    " # Завдання 1: Обернути масив (reverse the array)\n",
    "\n",
    "sizes = [10, 100, 1000, 10000]\n",
    "for size in sizes:\n",
    "    # Generate int array\n",
    "    array_int = np.random.randint(0, 100, size=size, dtype=np.int64)\n",
    "    tracemalloc.start()\n",
    "    start_time = time.time()\n",
    "    reverse_array(array_int.copy())\n",
    "    end_time = time.time()\n",
    "    elapsed_time_int = end_time - start_time\n",
    "    memory_usage_int = tracemalloc.get_traced_memory()\n",
    "    tracemalloc.stop()\n",
    "\n",
    "    # Generate float array\n",
    "    array_float = np.random.uniform(0, 100, size=size)\n",
    "    tracemalloc.start()\n",
    "    start_time = time.time()\n",
    "    reverse_array(array_float.copy())\n",
    "    end_time = time.time()\n",
    "    elapsed_time_float = end_time - start_time\n",
    "    memory_usage_float = tracemalloc.get_traced_memory()\n",
    "    tracemalloc.stop()\n",
    "\n",
    "    print(f\"Size: {size}, Data Type: int, Time: {elapsed_time_int}, Memory Usage: {memory_usage_int}\")\n",
    "    print(f\"Size: {size}, Data Type: float, Time: {elapsed_time_float}, Memory Usage: {memory_usage_float}\")\n",
    "    print()\n"
   ]
  },
  {
   "cell_type": "code",
   "execution_count": 52,
   "metadata": {},
   "outputs": [
    {
     "name": "stdout",
     "output_type": "stream",
     "text": [
      "Size: 10, Data Type: int, Time: 133.0583839416504, Memory Usage: (5322, 86090)\n",
      "Size: 10, Data Type: float, Time: 134.22322392463684, Memory Usage: (1728, 82464)\n",
      "\n"
     ]
    }
   ],
   "source": [
    "# Завдання 2: Сортування бульбашкою (bubble sort)\n",
    "\n",
    "sizes = [10, 100, 1000, 10000]\n",
    "for size in sizes:\n",
    "    # Generate int array\n",
    "    array_int = np.random.randint(0, 100, size=size, dtype=np.int64)\n",
    "    tracemalloc.start()\n",
    "    start_time = time.time()\n",
    "    bubble_sort(array.copy())\n",
    "    end_time = time.time()\n",
    "    elapsed_time_int = end_time - start_time\n",
    "    memory_usage_int = tracemalloc.get_traced_memory()\n",
    "    tracemalloc.stop()\n",
    "\n",
    "    # Generate float array\n",
    "    array_float = np.random.uniform(0, 100, size=size)\n",
    "    tracemalloc.start()\n",
    "    start_time = time.time()\n",
    "    bubble_sort(array.copy())\n",
    "    end_time = time.time()\n",
    "    elapsed_time_float = end_time - start_time\n",
    "    memory_usage_float = tracemalloc.get_traced_memory()\n",
    "    tracemalloc.stop()\n",
    "\n",
    "    print(f\"Size: {size}, Data Type: int, Time: {elapsed_time_int}, Memory Usage: {memory_usage_int}\")\n",
    "    print(f\"Size: {size}, Data Type: float, Time: {elapsed_time_float}, Memory Usage: {memory_usage_float}\")\n",
    "    print()\n"
   ]
  },
  {
   "cell_type": "code",
   "execution_count": null,
   "metadata": {},
   "outputs": [
    {
     "name": "stdout",
     "output_type": "stream",
     "text": [
      "Size: 10, Data Type: int, Time: 44.51092505455017, Memory Usage: (839814, 935664)\n",
      "Size: 10, Data Type: float, Time: 44.3443341255188, Memory Usage: (992, 81736)\n",
      "\n",
      "Size: 100, Data Type: int, Time: 45.119089126586914, Memory Usage: (1952, 84838)\n",
      "Size: 100, Data Type: float, Time: 45.95673608779907, Memory Usage: (992, 81736)\n",
      "\n",
      "Size: 1000, Data Type: int, Time: 45.43130302429199, Memory Usage: (2007, 84785)\n",
      "Size: 1000, Data Type: float, Time: 45.5125298500061, Memory Usage: (992, 81736)\n",
      "\n"
     ]
    },
    {
     "ename": "KeyboardInterrupt",
     "evalue": "",
     "output_type": "error",
     "traceback": [
      "\u001b[0;31m---------------------------------------------------------------------------\u001b[0m",
      "\u001b[0;31mKeyboardInterrupt\u001b[0m                         Traceback (most recent call last)",
      "Cell \u001b[0;32mIn[47], line 19\u001b[0m\n\u001b[1;32m     17\u001b[0m tracemalloc\u001b[38;5;241m.\u001b[39mstart()\n\u001b[1;32m     18\u001b[0m start_time \u001b[38;5;241m=\u001b[39m time\u001b[38;5;241m.\u001b[39mtime()\n\u001b[0;32m---> 19\u001b[0m \u001b[43minsertion_sort\u001b[49m\u001b[43m(\u001b[49m\u001b[43marray\u001b[49m\u001b[38;5;241;43m.\u001b[39;49m\u001b[43mcopy\u001b[49m\u001b[43m(\u001b[49m\u001b[43m)\u001b[49m\u001b[43m)\u001b[49m\n\u001b[1;32m     20\u001b[0m end_time \u001b[38;5;241m=\u001b[39m time\u001b[38;5;241m.\u001b[39mtime()\n\u001b[1;32m     21\u001b[0m elapsed_time_float \u001b[38;5;241m=\u001b[39m end_time \u001b[38;5;241m-\u001b[39m start_time\n",
      "Cell \u001b[0;32mIn[18], line 15\u001b[0m, in \u001b[0;36minsertion_sort\u001b[0;34m(array)\u001b[0m\n\u001b[1;32m     13\u001b[0m current_element \u001b[38;5;241m=\u001b[39m array[i]\n\u001b[1;32m     14\u001b[0m j \u001b[38;5;241m=\u001b[39m i \u001b[38;5;241m-\u001b[39m \u001b[38;5;241m1\u001b[39m\n\u001b[0;32m---> 15\u001b[0m \u001b[38;5;28;01mwhile\u001b[39;00m j \u001b[38;5;241m>\u001b[39m\u001b[38;5;241m=\u001b[39m \u001b[38;5;241m0\u001b[39m \u001b[38;5;129;01mand\u001b[39;00m array[j] \u001b[38;5;241m>\u001b[39m current_element:\n\u001b[1;32m     16\u001b[0m   array[j \u001b[38;5;241m+\u001b[39m \u001b[38;5;241m1\u001b[39m] \u001b[38;5;241m=\u001b[39m array[j]\n\u001b[1;32m     17\u001b[0m   j \u001b[38;5;241m-\u001b[39m\u001b[38;5;241m=\u001b[39m \u001b[38;5;241m1\u001b[39m\n",
      "\u001b[0;31mKeyboardInterrupt\u001b[0m: "
     ]
    }
   ],
   "source": [
    "# Завдання 3: Сортування вставкою (insertion_sort sort)\n",
    "\n",
    "sizes = [10, 100, 1000, 10000]\n",
    "for size in sizes:\n",
    "    # Generate int array\n",
    "    array_int = np.random.randint(0, 100, size=size, dtype=np.int64)\n",
    "    tracemalloc.start()\n",
    "    start_time = time.time()\n",
    "    insertion_sort(array.copy())\n",
    "    end_time = time.time()\n",
    "    elapsed_time_int = end_time - start_time\n",
    "    memory_usage_int = tracemalloc.get_traced_memory()\n",
    "    tracemalloc.stop()\n",
    "\n",
    "    # Generate float array\n",
    "    array_float = np.random.uniform(0, 100, size=size)\n",
    "    tracemalloc.start()\n",
    "    start_time = time.time()\n",
    "    insertion_sort(array.copy())\n",
    "    end_time = time.time()\n",
    "    elapsed_time_float = end_time - start_time\n",
    "    memory_usage_float = tracemalloc.get_traced_memory()\n",
    "    tracemalloc.stop()\n",
    "\n",
    "    print(f\"Size: {size}, Data Type: int, Time: {elapsed_time_int}, Memory Usage: {memory_usage_int}\")\n",
    "    print(f\"Size: {size}, Data Type: float, Time: {elapsed_time_float}, Memory Usage: {memory_usage_float}\")\n",
    "    print()\n"
   ]
  },
  {
   "cell_type": "code",
   "execution_count": null,
   "metadata": {},
   "outputs": [
    {
     "name": "stdout",
     "output_type": "stream",
     "text": [
      "0.0587000846862793\n",
      "Memory Usage: (6698, 720177)\n"
     ]
    }
   ],
   "source": [
    "# Завдання 4: Швидке сортування\n",
    "\n",
    "sizes = [10, 100, 1000, 10000]\n",
    "for size in sizes:\n",
    "    # Generate int array\n",
    "    array_int = np.random.randint(0, 100, size=size, dtype=np.int64)\n",
    "    tracemalloc.start()\n",
    "    start_time = time.time()\n",
    "    quick_sort(array.copy())\n",
    "    end_time = time.time()\n",
    "    elapsed_time_int = end_time - start_time\n",
    "    memory_usage_int = tracemalloc.get_traced_memory()\n",
    "    tracemalloc.stop()\n",
    "\n",
    "    # Generate float array\n",
    "    array_float = np.random.uniform(0, 100, size=size)\n",
    "    tracemalloc.start()\n",
    "    start_time = time.time()\n",
    "    quick_sort(array.copy())\n",
    "    end_time = time.time()\n",
    "    elapsed_time_float = end_time - start_time\n",
    "    memory_usage_float = tracemalloc.get_traced_memory()\n",
    "    tracemalloc.stop()\n",
    "\n",
    "    print(f\"Size: {size}, Data Type: int, Time: {elapsed_time_int}, Memory Usage: {memory_usage_int}\")\n",
    "    print(f\"Size: {size}, Data Type: float, Time: {elapsed_time_float}, Memory Usage: {memory_usage_float}\")\n",
    "    print()"
   ]
  },
  {
   "cell_type": "code",
   "execution_count": null,
   "metadata": {},
   "outputs": [
    {
     "name": "stdout",
     "output_type": "stream",
     "text": [
      "0.0062940120697021484\n",
      "Memory Usage: (4855, 88969)\n"
     ]
    }
   ],
   "source": [
    "# Завдання 5: Бінарний пошук\n",
    "\n",
    "sizes = [10, 100, 1000, 10000]\n",
    "for size in sizes:\n",
    "    # Generate int array\n",
    "    array_int = np.random.randint(0, 100, size=size, dtype=np.int64)\n",
    "    tracemalloc.start()\n",
    "    start_time = time.time()\n",
    "    binary_search(array)\n",
    "    end_time = time.time()\n",
    "    elapsed_time_int = end_time - start_time\n",
    "    memory_usage_int = tracemalloc.get_traced_memory()\n",
    "    tracemalloc.stop()\n",
    "\n",
    "    # Generate float array\n",
    "    array_float = np.random.uniform(0, 100, size=size)\n",
    "    tracemalloc.start()\n",
    "    start_time = time.time()\n",
    "    binary_search(array)\n",
    "    end_time = time.time()\n",
    "    elapsed_time_float = end_time - start_time\n",
    "    memory_usage_float = tracemalloc.get_traced_memory()\n",
    "    tracemalloc.stop()\n",
    "\n",
    "    print(f\"Size: {size}, Data Type: int, Time: {elapsed_time_int}, Memory Usage: {memory_usage_int}\")\n",
    "    print(f\"Size: {size}, Data Type: float, Time: {elapsed_time_float}, Memory Usage: {memory_usage_float}\")\n",
    "    print()"
   ]
  }
 ],
 "metadata": {
  "kernelspec": {
   "display_name": "Python 3",
   "language": "python",
   "name": "python3"
  },
  "language_info": {
   "codemirror_mode": {
    "name": "ipython",
    "version": 3
   },
   "file_extension": ".py",
   "mimetype": "text/x-python",
   "name": "python",
   "nbconvert_exporter": "python",
   "pygments_lexer": "ipython3",
   "version": "3.11.9"
  }
 },
 "nbformat": 4,
 "nbformat_minor": 2
}
